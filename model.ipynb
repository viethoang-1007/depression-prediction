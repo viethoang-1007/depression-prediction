{
 "cells": [
  {
   "cell_type": "code",
   "execution_count": 1,
   "metadata": {},
   "outputs": [
    {
     "name": "stderr",
     "output_type": "stream",
     "text": [
      "C:\\Users\\PC\\AppData\\Local\\Packages\\PythonSoftwareFoundation.Python.3.11_qbz5n2kfra8p0\\LocalCache\\local-packages\\Python311\\site-packages\\tqdm\\auto.py:21: TqdmWarning: IProgress not found. Please update jupyter and ipywidgets. See https://ipywidgets.readthedocs.io/en/stable/user_install.html\n",
      "  from .autonotebook import tqdm as notebook_tqdm\n"
     ]
    },
    {
     "name": "stdout",
     "output_type": "stream",
     "text": [
      "WARNING:tensorflow:From C:\\Users\\PC\\AppData\\Local\\Packages\\PythonSoftwareFoundation.Python.3.11_qbz5n2kfra8p0\\LocalCache\\local-packages\\Python311\\site-packages\\tf_keras\\src\\losses.py:2976: The name tf.losses.sparse_softmax_cross_entropy is deprecated. Please use tf.compat.v1.losses.sparse_softmax_cross_entropy instead.\n",
      "\n"
     ]
    }
   ],
   "source": [
    "import numpy as np\n",
    "import pandas as pd\n",
    "import tensorflow as tf\n",
    "from tensorflow.keras import layers, regularizers, Model, Input\n",
    "from transformers import DistilBertTokenizer, TFDistilBertModel\n",
    "import librosa\n",
    "from sklearn.metrics import confusion_matrix, classification_report\n",
    "import matplotlib.pyplot as plt\n",
    "import seaborn as sns"
   ]
  },
  {
   "cell_type": "code",
   "execution_count": 2,
   "metadata": {},
   "outputs": [],
   "source": [
    "# **Additive Attention Layer**\n",
    "class AdditiveAttention(layers.Layer):\n",
    "    def __init__(self, **kwargs):\n",
    "        super(AdditiveAttention, self).__init__(**kwargs)\n",
    "        self.attention_dense = layers.Dense(1, activation=\"tanh\", kernel_regularizer=tf.keras.regularizers.l2(0.01))\n",
    "\n",
    "    def call(self, inputs):\n",
    "        attention = self.attention_dense(inputs)\n",
    "        attention_weights = tf.nn.softmax(attention, axis=1)\n",
    "        context_vector = tf.reduce_sum(inputs * attention_weights, axis=1)\n",
    "        return context_vector"
   ]
  },
  {
   "cell_type": "code",
   "execution_count": 3,
   "metadata": {},
   "outputs": [],
   "source": [
    "# **1. Chuẩn bị Dữ liệu Voice**\n",
    "def extract_mfcc(audio_path, n_mfcc=13, sr=16000):\n",
    "    y, sr = librosa.load(audio_path, sr=sr)\n",
    "    mfcc = librosa.feature.mfcc(y=y, sr=sr, n_mfcc=n_mfcc)\n",
    "    return mfcc.T  # (time_steps, features)\n",
    "\n",
    "def prepare_voice_data(csv_file):\n",
    "    data = pd.read_csv(csv_file)\n",
    "    X_voice, y = [], []\n",
    "    for _, row in data.iterrows():\n",
    "        mfcc = extract_mfcc(row['File_path'])\n",
    "        X_voice.append(mfcc)\n",
    "        y.append(row['Label'])\n",
    "    return X_voice, np.array(y)\n",
    "\n",
    "def pad_voice_features(features):\n",
    "    max_length = max([feature.shape[0] for feature in features])\n",
    "    padded_features = []\n",
    "    for feature in features:\n",
    "        padding = np.zeros((max_length - feature.shape[0], feature.shape[1]))\n",
    "        padded_features.append(np.vstack([feature, padding]))\n",
    "    return np.array(padded_features), max_length\n"
   ]
  },
  {
   "cell_type": "code",
   "execution_count": 26,
   "metadata": {},
   "outputs": [],
   "source": [
    "# Load Voice Data\n",
    "X_train_voice_raw, y_train = prepare_voice_data('D:/download/AI_Project/new_dataset_7_6_s/12_03/new_audio_train_theo_transcript.csv')\n",
    "X_val_voice_raw, y_val = prepare_voice_data('D:/download/AI_Project/new_dataset_7_6_s/12_03/new_audio_val_theo_transcript.csv')\n",
    "X_test_voice_raw, y_test = prepare_voice_data('D:/download/AI_Project/new_dataset_7_6_s/12_03/new_audio_test_theo_transcript.csv')\n",
    "\n",
    "# Padding Voice Features\n",
    "X_train_voice, max_length_voice_train = pad_voice_features(X_train_voice_raw)\n",
    "X_val_voice, max_length_voice_val = pad_voice_features(X_val_voice_raw)\n",
    "X_test_voice, max_length_voice_test = pad_voice_features(X_test_voice_raw)\n",
    "\n",
    "# Ensure all datasets have the same max length\n",
    "max_length_voice = max(max_length_voice_train, max_length_voice_val, max_length_voice_test)\n",
    "X_train_voice = np.array([np.pad(x, ((0, max_length_voice - x.shape[0]), (0, 0)), 'constant') for x in X_train_voice])\n",
    "X_val_voice = np.array([np.pad(x, ((0, max_length_voice - x.shape[0]), (0, 0)), 'constant') for x in X_val_voice])\n",
    "X_test_voice = np.array([np.pad(x, ((0, max_length_voice - x.shape[0]), (0, 0)), 'constant') for x in X_test_voice])\n"
   ]
  },
  {
   "cell_type": "code",
   "execution_count": 27,
   "metadata": {},
   "outputs": [
    {
     "name": "stderr",
     "output_type": "stream",
     "text": [
      "Some weights of the PyTorch model were not used when initializing the TF 2.0 model TFDistilBertModel: ['vocab_transform.weight', 'vocab_layer_norm.weight', 'vocab_transform.bias', 'vocab_layer_norm.bias', 'vocab_projector.bias']\n",
      "- This IS expected if you are initializing TFDistilBertModel from a PyTorch model trained on another task or with another architecture (e.g. initializing a TFBertForSequenceClassification model from a BertForPreTraining model).\n",
      "- This IS NOT expected if you are initializing TFDistilBertModel from a PyTorch model that you expect to be exactly identical (e.g. initializing a TFBertForSequenceClassification model from a BertForSequenceClassification model).\n",
      "All the weights of TFDistilBertModel were initialized from the PyTorch model.\n",
      "If your task is similar to the task the model of the checkpoint was trained on, you can already use TFDistilBertModel for predictions without further training.\n"
     ]
    }
   ],
   "source": [
    "# **2. Chuẩn bị Dữ liệu Text**\n",
    "# **2. Chuẩn bị Dữ liệu Text (Toàn bộ đoạn văn bản)**\n",
    "tokenizer = DistilBertTokenizer.from_pretrained(\"distilbert-base-uncased\")\n",
    "distilbert_model = TFDistilBertModel.from_pretrained(\"distilbert-base-uncased\")\n",
    "def encode_full_text(text, max_len=50):\n",
    "    # Ensure text is a string and tokenize it properly\n",
    "    if isinstance(text, str):  # If a single string, process it\n",
    "        inputs = tokenizer(text, padding=True, truncation=True, max_length=max_len, return_tensors=\"tf\")\n",
    "    else:  # If it's a list of strings, tokenize as batch\n",
    "        inputs = tokenizer(text, padding=True, truncation=True, max_length=max_len, return_tensors=\"tf\")\n",
    "    \n",
    "    outputs = distilbert_model(inputs[\"input_ids\"])\n",
    "    return tf.reduce_mean(outputs.last_hidden_state, axis=1).numpy()\n",
    "\n",
    "def prepare_text_data(csv_file):\n",
    "    data = pd.read_csv(csv_file)\n",
    "    X_full_text = data['Processed_Text'].values  # Toàn bộ đoạn văn bản\n",
    "    \n",
    "    # Ensure each item in X_full_text is a string before passing to tokenizer\n",
    "    X_encoded_text = [encode_full_text(str(text)) for text in X_full_text]  # Mã hóa toàn bộ đoạn văn bản\n",
    "    y = data['Label'].values\n",
    "    return X_encoded_text, y"
   ]
  },
  {
   "cell_type": "code",
   "execution_count": 28,
   "metadata": {},
   "outputs": [],
   "source": [
    "# Load Text Data\n",
    "X_train_text, _ = prepare_text_data('D:/download/AI_Project/new_dataset_7_6_s/12_03/train_transcripts_processed.csv')\n",
    "X_val_text, _ = prepare_text_data('D:/download/AI_Project/new_dataset_7_6_s/12_03/val_transcripts_processed.csv')\n",
    "X_test_text, _ = prepare_text_data('D:/download/AI_Project/new_dataset_7_6_s/12_03/test_transcripts_processed.csv')\n",
    "\n",
    "# Padding Text Features (Giữ lại padding cho các đoạn văn bản)\n",
    "def pad_text_features(features, max_len):\n",
    "    padded_features = []\n",
    "    for feature in features:\n",
    "        if feature.shape[0] < max_len:\n",
    "            padding = np.zeros((max_len - feature.shape[0], feature.shape[1]))\n",
    "            padded_features.append(np.vstack([feature, padding]))\n",
    "        else:\n",
    "            padded_features.append(feature[:max_len])\n",
    "    return np.array(padded_features)\n",
    "\n",
    "max_len_text = 46  # Fixed maximum length for entire document, bạn có thể điều chỉnh nếu cần\n",
    "X_train_text = pad_text_features(X_train_text, max_len_text)\n",
    "X_val_text = pad_text_features(X_val_text, max_len_text)\n",
    "X_test_text = pad_text_features(X_test_text, max_len_text)\n"
   ]
  },
  {
   "cell_type": "code",
   "execution_count": 29,
   "metadata": {},
   "outputs": [
    {
     "data": {
      "text/html": [
       "<pre style=\"white-space:pre;overflow-x:auto;line-height:normal;font-family:Menlo,'DejaVu Sans Mono',consolas,'Courier New',monospace\"><span style=\"font-weight: bold\">Model: \"functional_1\"</span>\n",
       "</pre>\n"
      ],
      "text/plain": [
       "\u001b[1mModel: \"functional_1\"\u001b[0m\n"
      ]
     },
     "metadata": {},
     "output_type": "display_data"
    },
    {
     "data": {
      "text/html": [
       "<pre style=\"white-space:pre;overflow-x:auto;line-height:normal;font-family:Menlo,'DejaVu Sans Mono',consolas,'Courier New',monospace\">┏━━━━━━━━━━━━━━━━━━━━━┳━━━━━━━━━━━━━━━━━━━┳━━━━━━━━━━━━┳━━━━━━━━━━━━━━━━━━━┓\n",
       "┃<span style=\"font-weight: bold\"> Layer (type)        </span>┃<span style=\"font-weight: bold\"> Output Shape      </span>┃<span style=\"font-weight: bold\">    Param # </span>┃<span style=\"font-weight: bold\"> Connected to      </span>┃\n",
       "┡━━━━━━━━━━━━━━━━━━━━━╇━━━━━━━━━━━━━━━━━━━╇━━━━━━━━━━━━╇━━━━━━━━━━━━━━━━━━━┩\n",
       "│ input_layer_2       │ (<span style=\"color: #00d7ff; text-decoration-color: #00d7ff\">None</span>, <span style=\"color: #00af00; text-decoration-color: #00af00\">469</span>, <span style=\"color: #00af00; text-decoration-color: #00af00\">13</span>)   │          <span style=\"color: #00af00; text-decoration-color: #00af00\">0</span> │ -                 │\n",
       "│ (<span style=\"color: #0087ff; text-decoration-color: #0087ff\">InputLayer</span>)        │                   │            │                   │\n",
       "├─────────────────────┼───────────────────┼────────────┼───────────────────┤\n",
       "│ conv1d_1 (<span style=\"color: #0087ff; text-decoration-color: #0087ff\">Conv1D</span>)   │ (<span style=\"color: #00d7ff; text-decoration-color: #00d7ff\">None</span>, <span style=\"color: #00af00; text-decoration-color: #00af00\">467</span>, <span style=\"color: #00af00; text-decoration-color: #00af00\">64</span>)   │      <span style=\"color: #00af00; text-decoration-color: #00af00\">2,560</span> │ input_layer_2[<span style=\"color: #00af00; text-decoration-color: #00af00\">0</span>]… │\n",
       "├─────────────────────┼───────────────────┼────────────┼───────────────────┤\n",
       "│ max_pooling1d_1     │ (<span style=\"color: #00d7ff; text-decoration-color: #00d7ff\">None</span>, <span style=\"color: #00af00; text-decoration-color: #00af00\">233</span>, <span style=\"color: #00af00; text-decoration-color: #00af00\">64</span>)   │          <span style=\"color: #00af00; text-decoration-color: #00af00\">0</span> │ conv1d_1[<span style=\"color: #00af00; text-decoration-color: #00af00\">0</span>][<span style=\"color: #00af00; text-decoration-color: #00af00\">0</span>]    │\n",
       "│ (<span style=\"color: #0087ff; text-decoration-color: #0087ff\">MaxPooling1D</span>)      │                   │            │                   │\n",
       "├─────────────────────┼───────────────────┼────────────┼───────────────────┤\n",
       "│ input_layer_3       │ (<span style=\"color: #00d7ff; text-decoration-color: #00d7ff\">None</span>, <span style=\"color: #00af00; text-decoration-color: #00af00\">46</span>, <span style=\"color: #00af00; text-decoration-color: #00af00\">768</span>)   │          <span style=\"color: #00af00; text-decoration-color: #00af00\">0</span> │ -                 │\n",
       "│ (<span style=\"color: #0087ff; text-decoration-color: #0087ff\">InputLayer</span>)        │                   │            │                   │\n",
       "├─────────────────────┼───────────────────┼────────────┼───────────────────┤\n",
       "│ bidirectional_2     │ (<span style=\"color: #00d7ff; text-decoration-color: #00d7ff\">None</span>, <span style=\"color: #00af00; text-decoration-color: #00af00\">233</span>, <span style=\"color: #00af00; text-decoration-color: #00af00\">128</span>)  │     <span style=\"color: #00af00; text-decoration-color: #00af00\">66,048</span> │ max_pooling1d_1[<span style=\"color: #00af00; text-decoration-color: #00af00\">…</span> │\n",
       "│ (<span style=\"color: #0087ff; text-decoration-color: #0087ff\">Bidirectional</span>)     │                   │            │                   │\n",
       "├─────────────────────┼───────────────────┼────────────┼───────────────────┤\n",
       "│ bidirectional_3     │ (<span style=\"color: #00d7ff; text-decoration-color: #00d7ff\">None</span>, <span style=\"color: #00af00; text-decoration-color: #00af00\">46</span>, <span style=\"color: #00af00; text-decoration-color: #00af00\">256</span>)   │    <span style=\"color: #00af00; text-decoration-color: #00af00\">918,528</span> │ input_layer_3[<span style=\"color: #00af00; text-decoration-color: #00af00\">0</span>]… │\n",
       "│ (<span style=\"color: #0087ff; text-decoration-color: #0087ff\">Bidirectional</span>)     │                   │            │                   │\n",
       "├─────────────────────┼───────────────────┼────────────┼───────────────────┤\n",
       "│ additive_attention… │ (<span style=\"color: #00d7ff; text-decoration-color: #00d7ff\">None</span>, <span style=\"color: #00af00; text-decoration-color: #00af00\">128</span>)       │        <span style=\"color: #00af00; text-decoration-color: #00af00\">129</span> │ bidirectional_2[<span style=\"color: #00af00; text-decoration-color: #00af00\">…</span> │\n",
       "│ (<span style=\"color: #0087ff; text-decoration-color: #0087ff\">AdditiveAttention</span>) │                   │            │                   │\n",
       "├─────────────────────┼───────────────────┼────────────┼───────────────────┤\n",
       "│ additive_attention… │ (<span style=\"color: #00d7ff; text-decoration-color: #00d7ff\">None</span>, <span style=\"color: #00af00; text-decoration-color: #00af00\">256</span>)       │        <span style=\"color: #00af00; text-decoration-color: #00af00\">257</span> │ bidirectional_3[<span style=\"color: #00af00; text-decoration-color: #00af00\">…</span> │\n",
       "│ (<span style=\"color: #0087ff; text-decoration-color: #0087ff\">AdditiveAttention</span>) │                   │            │                   │\n",
       "├─────────────────────┼───────────────────┼────────────┼───────────────────┤\n",
       "│ concatenate_1       │ (<span style=\"color: #00d7ff; text-decoration-color: #00d7ff\">None</span>, <span style=\"color: #00af00; text-decoration-color: #00af00\">384</span>)       │          <span style=\"color: #00af00; text-decoration-color: #00af00\">0</span> │ additive_attenti… │\n",
       "│ (<span style=\"color: #0087ff; text-decoration-color: #0087ff\">Concatenate</span>)       │                   │            │ additive_attenti… │\n",
       "├─────────────────────┼───────────────────┼────────────┼───────────────────┤\n",
       "│ dense_6 (<span style=\"color: #0087ff; text-decoration-color: #0087ff\">Dense</span>)     │ (<span style=\"color: #00d7ff; text-decoration-color: #00d7ff\">None</span>, <span style=\"color: #00af00; text-decoration-color: #00af00\">128</span>)       │     <span style=\"color: #00af00; text-decoration-color: #00af00\">49,280</span> │ concatenate_1[<span style=\"color: #00af00; text-decoration-color: #00af00\">0</span>]… │\n",
       "├─────────────────────┼───────────────────┼────────────┼───────────────────┤\n",
       "│ dropout_1 (<span style=\"color: #0087ff; text-decoration-color: #0087ff\">Dropout</span>) │ (<span style=\"color: #00d7ff; text-decoration-color: #00d7ff\">None</span>, <span style=\"color: #00af00; text-decoration-color: #00af00\">128</span>)       │          <span style=\"color: #00af00; text-decoration-color: #00af00\">0</span> │ dense_6[<span style=\"color: #00af00; text-decoration-color: #00af00\">0</span>][<span style=\"color: #00af00; text-decoration-color: #00af00\">0</span>]     │\n",
       "├─────────────────────┼───────────────────┼────────────┼───────────────────┤\n",
       "│ dense_7 (<span style=\"color: #0087ff; text-decoration-color: #0087ff\">Dense</span>)     │ (<span style=\"color: #00d7ff; text-decoration-color: #00d7ff\">None</span>, <span style=\"color: #00af00; text-decoration-color: #00af00\">1</span>)         │        <span style=\"color: #00af00; text-decoration-color: #00af00\">129</span> │ dropout_1[<span style=\"color: #00af00; text-decoration-color: #00af00\">0</span>][<span style=\"color: #00af00; text-decoration-color: #00af00\">0</span>]   │\n",
       "└─────────────────────┴───────────────────┴────────────┴───────────────────┘\n",
       "</pre>\n"
      ],
      "text/plain": [
       "┏━━━━━━━━━━━━━━━━━━━━━┳━━━━━━━━━━━━━━━━━━━┳━━━━━━━━━━━━┳━━━━━━━━━━━━━━━━━━━┓\n",
       "┃\u001b[1m \u001b[0m\u001b[1mLayer (type)       \u001b[0m\u001b[1m \u001b[0m┃\u001b[1m \u001b[0m\u001b[1mOutput Shape     \u001b[0m\u001b[1m \u001b[0m┃\u001b[1m \u001b[0m\u001b[1m   Param #\u001b[0m\u001b[1m \u001b[0m┃\u001b[1m \u001b[0m\u001b[1mConnected to     \u001b[0m\u001b[1m \u001b[0m┃\n",
       "┡━━━━━━━━━━━━━━━━━━━━━╇━━━━━━━━━━━━━━━━━━━╇━━━━━━━━━━━━╇━━━━━━━━━━━━━━━━━━━┩\n",
       "│ input_layer_2       │ (\u001b[38;5;45mNone\u001b[0m, \u001b[38;5;34m469\u001b[0m, \u001b[38;5;34m13\u001b[0m)   │          \u001b[38;5;34m0\u001b[0m │ -                 │\n",
       "│ (\u001b[38;5;33mInputLayer\u001b[0m)        │                   │            │                   │\n",
       "├─────────────────────┼───────────────────┼────────────┼───────────────────┤\n",
       "│ conv1d_1 (\u001b[38;5;33mConv1D\u001b[0m)   │ (\u001b[38;5;45mNone\u001b[0m, \u001b[38;5;34m467\u001b[0m, \u001b[38;5;34m64\u001b[0m)   │      \u001b[38;5;34m2,560\u001b[0m │ input_layer_2[\u001b[38;5;34m0\u001b[0m]… │\n",
       "├─────────────────────┼───────────────────┼────────────┼───────────────────┤\n",
       "│ max_pooling1d_1     │ (\u001b[38;5;45mNone\u001b[0m, \u001b[38;5;34m233\u001b[0m, \u001b[38;5;34m64\u001b[0m)   │          \u001b[38;5;34m0\u001b[0m │ conv1d_1[\u001b[38;5;34m0\u001b[0m][\u001b[38;5;34m0\u001b[0m]    │\n",
       "│ (\u001b[38;5;33mMaxPooling1D\u001b[0m)      │                   │            │                   │\n",
       "├─────────────────────┼───────────────────┼────────────┼───────────────────┤\n",
       "│ input_layer_3       │ (\u001b[38;5;45mNone\u001b[0m, \u001b[38;5;34m46\u001b[0m, \u001b[38;5;34m768\u001b[0m)   │          \u001b[38;5;34m0\u001b[0m │ -                 │\n",
       "│ (\u001b[38;5;33mInputLayer\u001b[0m)        │                   │            │                   │\n",
       "├─────────────────────┼───────────────────┼────────────┼───────────────────┤\n",
       "│ bidirectional_2     │ (\u001b[38;5;45mNone\u001b[0m, \u001b[38;5;34m233\u001b[0m, \u001b[38;5;34m128\u001b[0m)  │     \u001b[38;5;34m66,048\u001b[0m │ max_pooling1d_1[\u001b[38;5;34m…\u001b[0m │\n",
       "│ (\u001b[38;5;33mBidirectional\u001b[0m)     │                   │            │                   │\n",
       "├─────────────────────┼───────────────────┼────────────┼───────────────────┤\n",
       "│ bidirectional_3     │ (\u001b[38;5;45mNone\u001b[0m, \u001b[38;5;34m46\u001b[0m, \u001b[38;5;34m256\u001b[0m)   │    \u001b[38;5;34m918,528\u001b[0m │ input_layer_3[\u001b[38;5;34m0\u001b[0m]… │\n",
       "│ (\u001b[38;5;33mBidirectional\u001b[0m)     │                   │            │                   │\n",
       "├─────────────────────┼───────────────────┼────────────┼───────────────────┤\n",
       "│ additive_attention… │ (\u001b[38;5;45mNone\u001b[0m, \u001b[38;5;34m128\u001b[0m)       │        \u001b[38;5;34m129\u001b[0m │ bidirectional_2[\u001b[38;5;34m…\u001b[0m │\n",
       "│ (\u001b[38;5;33mAdditiveAttention\u001b[0m) │                   │            │                   │\n",
       "├─────────────────────┼───────────────────┼────────────┼───────────────────┤\n",
       "│ additive_attention… │ (\u001b[38;5;45mNone\u001b[0m, \u001b[38;5;34m256\u001b[0m)       │        \u001b[38;5;34m257\u001b[0m │ bidirectional_3[\u001b[38;5;34m…\u001b[0m │\n",
       "│ (\u001b[38;5;33mAdditiveAttention\u001b[0m) │                   │            │                   │\n",
       "├─────────────────────┼───────────────────┼────────────┼───────────────────┤\n",
       "│ concatenate_1       │ (\u001b[38;5;45mNone\u001b[0m, \u001b[38;5;34m384\u001b[0m)       │          \u001b[38;5;34m0\u001b[0m │ additive_attenti… │\n",
       "│ (\u001b[38;5;33mConcatenate\u001b[0m)       │                   │            │ additive_attenti… │\n",
       "├─────────────────────┼───────────────────┼────────────┼───────────────────┤\n",
       "│ dense_6 (\u001b[38;5;33mDense\u001b[0m)     │ (\u001b[38;5;45mNone\u001b[0m, \u001b[38;5;34m128\u001b[0m)       │     \u001b[38;5;34m49,280\u001b[0m │ concatenate_1[\u001b[38;5;34m0\u001b[0m]… │\n",
       "├─────────────────────┼───────────────────┼────────────┼───────────────────┤\n",
       "│ dropout_1 (\u001b[38;5;33mDropout\u001b[0m) │ (\u001b[38;5;45mNone\u001b[0m, \u001b[38;5;34m128\u001b[0m)       │          \u001b[38;5;34m0\u001b[0m │ dense_6[\u001b[38;5;34m0\u001b[0m][\u001b[38;5;34m0\u001b[0m]     │\n",
       "├─────────────────────┼───────────────────┼────────────┼───────────────────┤\n",
       "│ dense_7 (\u001b[38;5;33mDense\u001b[0m)     │ (\u001b[38;5;45mNone\u001b[0m, \u001b[38;5;34m1\u001b[0m)         │        \u001b[38;5;34m129\u001b[0m │ dropout_1[\u001b[38;5;34m0\u001b[0m][\u001b[38;5;34m0\u001b[0m]   │\n",
       "└─────────────────────┴───────────────────┴────────────┴───────────────────┘\n"
      ]
     },
     "metadata": {},
     "output_type": "display_data"
    },
    {
     "data": {
      "text/html": [
       "<pre style=\"white-space:pre;overflow-x:auto;line-height:normal;font-family:Menlo,'DejaVu Sans Mono',consolas,'Courier New',monospace\"><span style=\"font-weight: bold\"> Total params: </span><span style=\"color: #00af00; text-decoration-color: #00af00\">1,036,931</span> (3.96 MB)\n",
       "</pre>\n"
      ],
      "text/plain": [
       "\u001b[1m Total params: \u001b[0m\u001b[38;5;34m1,036,931\u001b[0m (3.96 MB)\n"
      ]
     },
     "metadata": {},
     "output_type": "display_data"
    },
    {
     "data": {
      "text/html": [
       "<pre style=\"white-space:pre;overflow-x:auto;line-height:normal;font-family:Menlo,'DejaVu Sans Mono',consolas,'Courier New',monospace\"><span style=\"font-weight: bold\"> Trainable params: </span><span style=\"color: #00af00; text-decoration-color: #00af00\">1,036,931</span> (3.96 MB)\n",
       "</pre>\n"
      ],
      "text/plain": [
       "\u001b[1m Trainable params: \u001b[0m\u001b[38;5;34m1,036,931\u001b[0m (3.96 MB)\n"
      ]
     },
     "metadata": {},
     "output_type": "display_data"
    },
    {
     "data": {
      "text/html": [
       "<pre style=\"white-space:pre;overflow-x:auto;line-height:normal;font-family:Menlo,'DejaVu Sans Mono',consolas,'Courier New',monospace\"><span style=\"font-weight: bold\"> Non-trainable params: </span><span style=\"color: #00af00; text-decoration-color: #00af00\">0</span> (0.00 B)\n",
       "</pre>\n"
      ],
      "text/plain": [
       "\u001b[1m Non-trainable params: \u001b[0m\u001b[38;5;34m0\u001b[0m (0.00 B)\n"
      ]
     },
     "metadata": {},
     "output_type": "display_data"
    }
   ],
   "source": [
    "# **3. Xây dựng Mô hình Multimodal**\n",
    "# **Voice Branch**\n",
    "voice_input = layers.Input(shape=(max_length_voice, 13))  # MFCC only\n",
    "voice_cnn = layers.Conv1D(64, kernel_size=3, activation=\"relu\")(voice_input)\n",
    "voice_cnn = layers.MaxPooling1D(pool_size=2)(voice_cnn)\n",
    "voice_bilstm = layers.Bidirectional(layers.LSTM(64, return_sequences=True, dropout=0.3))(voice_cnn)\n",
    "voice_attention = AdditiveAttention()(voice_bilstm)\n",
    "\n",
    "# **Text Branch (Hierarchical Architecture)**\n",
    "# **Text Branch (Hierarchical Architecture)**\n",
    "text_input = layers.Input(shape=(max_len_text, 768))  # Mỗi đoạn văn bản đã được mã hóa\n",
    "# Turn-level Encoder (bây giờ bỏ qua turn-level)\n",
    "turn_bilstm = layers.Bidirectional(layers.LSTM(128, return_sequences=True, dropout=0.3, kernel_regularizer=regularizers.l2(0.01)))(text_input)\n",
    "turn_attention = AdditiveAttention()(turn_bilstm)\n",
    "\n",
    "\n",
    "# Fused Model tiếp tục giữ nguyên như trước, phần Fusion vẫn như cũ\n",
    "fused = layers.concatenate([voice_attention, turn_attention])\n",
    "fused = layers.Dense(128, activation=\"relu\", kernel_regularizer=regularizers.l2(0.01))(fused)\n",
    "fused = layers.Dropout(0.3)(fused)\n",
    "output = layers.Dense(1, activation=\"sigmoid\")(fused)\n",
    "\n",
    "# Compile Model\n",
    "model = Model(inputs=[voice_input, text_input], outputs=output)\n",
    "model.compile(optimizer=\"adam\", loss=\"binary_crossentropy\", metrics=[\"accuracy\"])\n",
    "model.summary()"
   ]
  },
  {
   "cell_type": "code",
   "execution_count": 30,
   "metadata": {},
   "outputs": [
    {
     "name": "stdout",
     "output_type": "stream",
     "text": [
      "Epoch 1/200\n"
     ]
    },
    {
     "name": "stderr",
     "output_type": "stream",
     "text": [
      "C:\\Users\\PC\\AppData\\Local\\Packages\\PythonSoftwareFoundation.Python.3.11_qbz5n2kfra8p0\\LocalCache\\local-packages\\Python311\\site-packages\\keras\\src\\models\\functional.py:225: UserWarning: The structure of `inputs` doesn't match the expected structure: ['keras_tensor_14', 'keras_tensor_20']. Received: the structure of inputs=('*', '*')\n",
      "  warnings.warn(\n"
     ]
    },
    {
     "name": "stdout",
     "output_type": "stream",
     "text": [
      "\u001b[1m549/549\u001b[0m \u001b[32m━━━━━━━━━━━━━━━━━━━━\u001b[0m\u001b[37m\u001b[0m \u001b[1m28s\u001b[0m 43ms/step - accuracy: 0.6850 - loss: 2.8209 - val_accuracy: 0.6925 - val_loss: 0.6224 - learning_rate: 0.0010\n",
      "Epoch 2/200\n",
      "\u001b[1m549/549\u001b[0m \u001b[32m━━━━━━━━━━━━━━━━━━━━\u001b[0m\u001b[37m\u001b[0m \u001b[1m22s\u001b[0m 41ms/step - accuracy: 0.6968 - loss: 0.6214 - val_accuracy: 0.6925 - val_loss: 0.6144 - learning_rate: 0.0010\n",
      "Epoch 3/200\n",
      "\u001b[1m549/549\u001b[0m \u001b[32m━━━━━━━━━━━━━━━━━━━━\u001b[0m\u001b[37m\u001b[0m \u001b[1m22s\u001b[0m 41ms/step - accuracy: 0.6951 - loss: 0.6170 - val_accuracy: 0.6925 - val_loss: 0.6065 - learning_rate: 0.0010\n",
      "Epoch 4/200\n",
      "\u001b[1m549/549\u001b[0m \u001b[32m━━━━━━━━━━━━━━━━━━━━\u001b[0m\u001b[37m\u001b[0m \u001b[1m22s\u001b[0m 41ms/step - accuracy: 0.6890 - loss: 0.6172 - val_accuracy: 0.6925 - val_loss: 0.6044 - learning_rate: 0.0010\n",
      "Epoch 5/200\n",
      "\u001b[1m549/549\u001b[0m \u001b[32m━━━━━━━━━━━━━━━━━━━━\u001b[0m\u001b[37m\u001b[0m \u001b[1m22s\u001b[0m 41ms/step - accuracy: 0.6877 - loss: 0.6107 - val_accuracy: 0.6925 - val_loss: 0.5994 - learning_rate: 0.0010\n",
      "Epoch 6/200\n",
      "\u001b[1m549/549\u001b[0m \u001b[32m━━━━━━━━━━━━━━━━━━━━\u001b[0m\u001b[37m\u001b[0m \u001b[1m22s\u001b[0m 41ms/step - accuracy: 0.6887 - loss: 0.6056 - val_accuracy: 0.6925 - val_loss: 0.5961 - learning_rate: 0.0010\n",
      "Epoch 7/200\n",
      "\u001b[1m549/549\u001b[0m \u001b[32m━━━━━━━━━━━━━━━━━━━━\u001b[0m\u001b[37m\u001b[0m \u001b[1m22s\u001b[0m 41ms/step - accuracy: 0.6922 - loss: 0.6032 - val_accuracy: 0.6925 - val_loss: 0.5952 - learning_rate: 0.0010\n",
      "Epoch 8/200\n",
      "\u001b[1m549/549\u001b[0m \u001b[32m━━━━━━━━━━━━━━━━━━━━\u001b[0m\u001b[37m\u001b[0m \u001b[1m23s\u001b[0m 41ms/step - accuracy: 0.6881 - loss: 0.6045 - val_accuracy: 0.6925 - val_loss: 0.5812 - learning_rate: 0.0010\n",
      "Epoch 9/200\n",
      "\u001b[1m549/549\u001b[0m \u001b[32m━━━━━━━━━━━━━━━━━━━━\u001b[0m\u001b[37m\u001b[0m \u001b[1m23s\u001b[0m 41ms/step - accuracy: 0.7022 - loss: 0.5829 - val_accuracy: 0.6925 - val_loss: 0.5782 - learning_rate: 0.0010\n",
      "Epoch 10/200\n",
      "\u001b[1m549/549\u001b[0m \u001b[32m━━━━━━━━━━━━━━━━━━━━\u001b[0m\u001b[37m\u001b[0m \u001b[1m23s\u001b[0m 41ms/step - accuracy: 0.6835 - loss: 0.5953 - val_accuracy: 0.6925 - val_loss: 0.5552 - learning_rate: 0.0010\n",
      "Epoch 11/200\n",
      "\u001b[1m549/549\u001b[0m \u001b[32m━━━━━━━━━━━━━━━━━━━━\u001b[0m\u001b[37m\u001b[0m \u001b[1m23s\u001b[0m 41ms/step - accuracy: 0.6932 - loss: 0.5736 - val_accuracy: 0.6925 - val_loss: 0.5472 - learning_rate: 0.0010\n",
      "Epoch 12/200\n",
      "\u001b[1m549/549\u001b[0m \u001b[32m━━━━━━━━━━━━━━━━━━━━\u001b[0m\u001b[37m\u001b[0m \u001b[1m23s\u001b[0m 41ms/step - accuracy: 0.6828 - loss: 0.5742 - val_accuracy: 0.6925 - val_loss: 0.5430 - learning_rate: 0.0010\n",
      "Epoch 13/200\n",
      "\u001b[1m549/549\u001b[0m \u001b[32m━━━━━━━━━━━━━━━━━━━━\u001b[0m\u001b[37m\u001b[0m \u001b[1m23s\u001b[0m 41ms/step - accuracy: 0.6797 - loss: 0.5664 - val_accuracy: 0.6925 - val_loss: 0.5341 - learning_rate: 0.0010\n",
      "Epoch 14/200\n",
      "\u001b[1m549/549\u001b[0m \u001b[32m━━━━━━━━━━━━━━━━━━━━\u001b[0m\u001b[37m\u001b[0m \u001b[1m23s\u001b[0m 41ms/step - accuracy: 0.6942 - loss: 0.5505 - val_accuracy: 0.6925 - val_loss: 0.5279 - learning_rate: 0.0010\n",
      "Epoch 15/200\n",
      "\u001b[1m549/549\u001b[0m \u001b[32m━━━━━━━━━━━━━━━━━━━━\u001b[0m\u001b[37m\u001b[0m \u001b[1m23s\u001b[0m 41ms/step - accuracy: 0.6841 - loss: 0.5399 - val_accuracy: 0.6943 - val_loss: 0.5313 - learning_rate: 0.0010\n",
      "Epoch 16/200\n",
      "\u001b[1m549/549\u001b[0m \u001b[32m━━━━━━━━━━━━━━━━━━━━\u001b[0m\u001b[37m\u001b[0m \u001b[1m23s\u001b[0m 41ms/step - accuracy: 0.7002 - loss: 0.5431 - val_accuracy: 0.7245 - val_loss: 0.5074 - learning_rate: 0.0010\n",
      "Epoch 17/200\n",
      "\u001b[1m549/549\u001b[0m \u001b[32m━━━━━━━━━━━━━━━━━━━━\u001b[0m\u001b[37m\u001b[0m \u001b[1m23s\u001b[0m 41ms/step - accuracy: 0.7052 - loss: 0.5503 - val_accuracy: 0.7491 - val_loss: 0.4935 - learning_rate: 0.0010\n",
      "Epoch 18/200\n",
      "\u001b[1m549/549\u001b[0m \u001b[32m━━━━━━━━━━━━━━━━━━━━\u001b[0m\u001b[37m\u001b[0m \u001b[1m23s\u001b[0m 41ms/step - accuracy: 0.7241 - loss: 0.5132 - val_accuracy: 0.7354 - val_loss: 0.4902 - learning_rate: 0.0010\n",
      "Epoch 19/200\n",
      "\u001b[1m549/549\u001b[0m \u001b[32m━━━━━━━━━━━━━━━━━━━━\u001b[0m\u001b[37m\u001b[0m \u001b[1m23s\u001b[0m 42ms/step - accuracy: 0.7274 - loss: 0.5190 - val_accuracy: 0.7427 - val_loss: 0.5185 - learning_rate: 0.0010\n",
      "Epoch 20/200\n",
      "\u001b[1m549/549\u001b[0m \u001b[32m━━━━━━━━━━━━━━━━━━━━\u001b[0m\u001b[37m\u001b[0m \u001b[1m23s\u001b[0m 42ms/step - accuracy: 0.7405 - loss: 0.5106 - val_accuracy: 0.7199 - val_loss: 0.5156 - learning_rate: 0.0010\n",
      "Epoch 21/200\n",
      "\u001b[1m549/549\u001b[0m \u001b[32m━━━━━━━━━━━━━━━━━━━━\u001b[0m\u001b[37m\u001b[0m \u001b[1m23s\u001b[0m 41ms/step - accuracy: 0.7389 - loss: 0.5133 - val_accuracy: 0.7673 - val_loss: 0.4627 - learning_rate: 0.0010\n",
      "Epoch 22/200\n",
      "\u001b[1m549/549\u001b[0m \u001b[32m━━━━━━━━━━━━━━━━━━━━\u001b[0m\u001b[37m\u001b[0m \u001b[1m22s\u001b[0m 41ms/step - accuracy: 0.7521 - loss: 0.4959 - val_accuracy: 0.7865 - val_loss: 0.4510 - learning_rate: 0.0010\n",
      "Epoch 23/200\n",
      "\u001b[1m549/549\u001b[0m \u001b[32m━━━━━━━━━━━━━━━━━━━━\u001b[0m\u001b[37m\u001b[0m \u001b[1m23s\u001b[0m 41ms/step - accuracy: 0.7619 - loss: 0.4873 - val_accuracy: 0.7847 - val_loss: 0.4502 - learning_rate: 0.0010\n",
      "Epoch 24/200\n",
      "\u001b[1m549/549\u001b[0m \u001b[32m━━━━━━━━━━━━━━━━━━━━\u001b[0m\u001b[37m\u001b[0m \u001b[1m22s\u001b[0m 41ms/step - accuracy: 0.7493 - loss: 0.4938 - val_accuracy: 0.7819 - val_loss: 0.4725 - learning_rate: 0.0010\n",
      "Epoch 25/200\n",
      "\u001b[1m549/549\u001b[0m \u001b[32m━━━━━━━━━━━━━━━━━━━━\u001b[0m\u001b[37m\u001b[0m \u001b[1m23s\u001b[0m 41ms/step - accuracy: 0.7821 - loss: 0.4671 - val_accuracy: 0.7892 - val_loss: 0.4459 - learning_rate: 0.0010\n",
      "Epoch 26/200\n",
      "\u001b[1m549/549\u001b[0m \u001b[32m━━━━━━━━━━━━━━━━━━━━\u001b[0m\u001b[37m\u001b[0m \u001b[1m22s\u001b[0m 41ms/step - accuracy: 0.7634 - loss: 0.4736 - val_accuracy: 0.8020 - val_loss: 0.4245 - learning_rate: 0.0010\n",
      "Epoch 27/200\n",
      "\u001b[1m549/549\u001b[0m \u001b[32m━━━━━━━━━━━━━━━━━━━━\u001b[0m\u001b[37m\u001b[0m \u001b[1m22s\u001b[0m 41ms/step - accuracy: 0.7833 - loss: 0.4617 - val_accuracy: 0.7984 - val_loss: 0.4458 - learning_rate: 0.0010\n",
      "Epoch 28/200\n",
      "\u001b[1m549/549\u001b[0m \u001b[32m━━━━━━━━━━━━━━━━━━━━\u001b[0m\u001b[37m\u001b[0m \u001b[1m22s\u001b[0m 41ms/step - accuracy: 0.7754 - loss: 0.4594 - val_accuracy: 0.7947 - val_loss: 0.4273 - learning_rate: 0.0010\n",
      "Epoch 29/200\n",
      "\u001b[1m549/549\u001b[0m \u001b[32m━━━━━━━━━━━━━━━━━━━━\u001b[0m\u001b[37m\u001b[0m \u001b[1m22s\u001b[0m 41ms/step - accuracy: 0.7848 - loss: 0.4514 - val_accuracy: 0.8066 - val_loss: 0.4167 - learning_rate: 0.0010\n",
      "Epoch 30/200\n",
      "\u001b[1m549/549\u001b[0m \u001b[32m━━━━━━━━━━━━━━━━━━━━\u001b[0m\u001b[37m\u001b[0m \u001b[1m23s\u001b[0m 41ms/step - accuracy: 0.7837 - loss: 0.4460 - val_accuracy: 0.8047 - val_loss: 0.4281 - learning_rate: 0.0010\n",
      "Epoch 31/200\n",
      "\u001b[1m549/549\u001b[0m \u001b[32m━━━━━━━━━━━━━━━━━━━━\u001b[0m\u001b[37m\u001b[0m \u001b[1m22s\u001b[0m 41ms/step - accuracy: 0.7912 - loss: 0.4372 - val_accuracy: 0.8166 - val_loss: 0.3962 - learning_rate: 0.0010\n",
      "Epoch 32/200\n",
      "\u001b[1m549/549\u001b[0m \u001b[32m━━━━━━━━━━━━━━━━━━━━\u001b[0m\u001b[37m\u001b[0m \u001b[1m22s\u001b[0m 41ms/step - accuracy: 0.7957 - loss: 0.4229 - val_accuracy: 0.8157 - val_loss: 0.4129 - learning_rate: 0.0010\n",
      "Epoch 33/200\n",
      "\u001b[1m549/549\u001b[0m \u001b[32m━━━━━━━━━━━━━━━━━━━━\u001b[0m\u001b[37m\u001b[0m \u001b[1m23s\u001b[0m 41ms/step - accuracy: 0.8057 - loss: 0.4210 - val_accuracy: 0.8148 - val_loss: 0.4137 - learning_rate: 0.0010\n",
      "Epoch 34/200\n",
      "\u001b[1m549/549\u001b[0m \u001b[32m━━━━━━━━━━━━━━━━━━━━\u001b[0m\u001b[37m\u001b[0m \u001b[1m22s\u001b[0m 41ms/step - accuracy: 0.8024 - loss: 0.4304 - val_accuracy: 0.8047 - val_loss: 0.4912 - learning_rate: 0.0010\n",
      "Epoch 35/200\n",
      "\u001b[1m549/549\u001b[0m \u001b[32m━━━━━━━━━━━━━━━━━━━━\u001b[0m\u001b[37m\u001b[0m \u001b[1m23s\u001b[0m 41ms/step - accuracy: 0.8165 - loss: 0.4046 - val_accuracy: 0.8075 - val_loss: 0.4441 - learning_rate: 5.0000e-04\n",
      "Epoch 36/200\n",
      "\u001b[1m549/549\u001b[0m \u001b[32m━━━━━━━━━━━━━━━━━━━━\u001b[0m\u001b[37m\u001b[0m \u001b[1m22s\u001b[0m 41ms/step - accuracy: 0.8353 - loss: 0.3800 - val_accuracy: 0.8458 - val_loss: 0.3573 - learning_rate: 5.0000e-04\n",
      "Epoch 37/200\n",
      "\u001b[1m549/549\u001b[0m \u001b[32m━━━━━━━━━━━━━━━━━━━━\u001b[0m\u001b[37m\u001b[0m \u001b[1m23s\u001b[0m 41ms/step - accuracy: 0.8345 - loss: 0.3791 - val_accuracy: 0.8349 - val_loss: 0.3745 - learning_rate: 5.0000e-04\n",
      "Epoch 38/200\n",
      "\u001b[1m549/549\u001b[0m \u001b[32m━━━━━━━━━━━━━━━━━━━━\u001b[0m\u001b[37m\u001b[0m \u001b[1m23s\u001b[0m 41ms/step - accuracy: 0.8394 - loss: 0.3622 - val_accuracy: 0.8349 - val_loss: 0.3833 - learning_rate: 5.0000e-04\n",
      "Epoch 39/200\n",
      "\u001b[1m549/549\u001b[0m \u001b[32m━━━━━━━━━━━━━━━━━━━━\u001b[0m\u001b[37m\u001b[0m \u001b[1m23s\u001b[0m 41ms/step - accuracy: 0.8452 - loss: 0.3584 - val_accuracy: 0.8495 - val_loss: 0.3617 - learning_rate: 5.0000e-04\n",
      "Epoch 40/200\n",
      "\u001b[1m549/549\u001b[0m \u001b[32m━━━━━━━━━━━━━━━━━━━━\u001b[0m\u001b[37m\u001b[0m \u001b[1m23s\u001b[0m 41ms/step - accuracy: 0.8473 - loss: 0.3507 - val_accuracy: 0.8467 - val_loss: 0.3751 - learning_rate: 2.5000e-04\n",
      "Epoch 41/200\n",
      "\u001b[1m549/549\u001b[0m \u001b[32m━━━━━━━━━━━━━━━━━━━━\u001b[0m\u001b[37m\u001b[0m \u001b[1m22s\u001b[0m 41ms/step - accuracy: 0.8482 - loss: 0.3508 - val_accuracy: 0.8330 - val_loss: 0.4013 - learning_rate: 2.5000e-04\n",
      "Epoch 42/200\n",
      "\u001b[1m549/549\u001b[0m \u001b[32m━━━━━━━━━━━━━━━━━━━━\u001b[0m\u001b[37m\u001b[0m \u001b[1m23s\u001b[0m 41ms/step - accuracy: 0.8588 - loss: 0.3402 - val_accuracy: 0.8476 - val_loss: 0.3734 - learning_rate: 2.5000e-04\n",
      "Epoch 43/200\n",
      "\u001b[1m549/549\u001b[0m \u001b[32m━━━━━━━━━━━━━━━━━━━━\u001b[0m\u001b[37m\u001b[0m \u001b[1m23s\u001b[0m 41ms/step - accuracy: 0.8571 - loss: 0.3435 - val_accuracy: 0.8613 - val_loss: 0.3619 - learning_rate: 1.2500e-04\n",
      "Epoch 44/200\n",
      "\u001b[1m549/549\u001b[0m \u001b[32m━━━━━━━━━━━━━━━━━━━━\u001b[0m\u001b[37m\u001b[0m \u001b[1m23s\u001b[0m 41ms/step - accuracy: 0.8611 - loss: 0.3335 - val_accuracy: 0.8568 - val_loss: 0.3668 - learning_rate: 1.2500e-04\n",
      "Epoch 45/200\n",
      "\u001b[1m549/549\u001b[0m \u001b[32m━━━━━━━━━━━━━━━━━━━━\u001b[0m\u001b[37m\u001b[0m \u001b[1m23s\u001b[0m 41ms/step - accuracy: 0.8654 - loss: 0.3260 - val_accuracy: 0.8586 - val_loss: 0.3537 - learning_rate: 1.2500e-04\n",
      "Epoch 46/200\n",
      "\u001b[1m549/549\u001b[0m \u001b[32m━━━━━━━━━━━━━━━━━━━━\u001b[0m\u001b[37m\u001b[0m \u001b[1m22s\u001b[0m 41ms/step - accuracy: 0.8662 - loss: 0.3282 - val_accuracy: 0.8568 - val_loss: 0.3713 - learning_rate: 1.2500e-04\n",
      "Epoch 47/200\n",
      "\u001b[1m549/549\u001b[0m \u001b[32m━━━━━━━━━━━━━━━━━━━━\u001b[0m\u001b[37m\u001b[0m \u001b[1m23s\u001b[0m 41ms/step - accuracy: 0.8703 - loss: 0.3222 - val_accuracy: 0.8631 - val_loss: 0.3786 - learning_rate: 1.2500e-04\n",
      "Epoch 48/200\n",
      "\u001b[1m549/549\u001b[0m \u001b[32m━━━━━━━━━━━━━━━━━━━━\u001b[0m\u001b[37m\u001b[0m \u001b[1m22s\u001b[0m 41ms/step - accuracy: 0.8668 - loss: 0.3214 - val_accuracy: 0.8540 - val_loss: 0.3732 - learning_rate: 1.2500e-04\n",
      "Epoch 49/200\n",
      "\u001b[1m549/549\u001b[0m \u001b[32m━━━━━━━━━━━━━━━━━━━━\u001b[0m\u001b[37m\u001b[0m \u001b[1m23s\u001b[0m 41ms/step - accuracy: 0.8715 - loss: 0.3173 - val_accuracy: 0.8604 - val_loss: 0.3585 - learning_rate: 6.2500e-05\n",
      "Epoch 50/200\n",
      "\u001b[1m549/549\u001b[0m \u001b[32m━━━━━━━━━━━━━━━━━━━━\u001b[0m\u001b[37m\u001b[0m \u001b[1m22s\u001b[0m 41ms/step - accuracy: 0.8696 - loss: 0.3136 - val_accuracy: 0.8522 - val_loss: 0.3686 - learning_rate: 6.2500e-05\n",
      "Epoch 51/200\n",
      "\u001b[1m549/549\u001b[0m \u001b[32m━━━━━━━━━━━━━━━━━━━━\u001b[0m\u001b[37m\u001b[0m \u001b[1m23s\u001b[0m 41ms/step - accuracy: 0.8738 - loss: 0.3069 - val_accuracy: 0.8641 - val_loss: 0.3569 - learning_rate: 6.2500e-05\n",
      "Epoch 52/200\n",
      "\u001b[1m549/549\u001b[0m \u001b[32m━━━━━━━━━━━━━━━━━━━━\u001b[0m\u001b[37m\u001b[0m \u001b[1m22s\u001b[0m 40ms/step - accuracy: 0.8698 - loss: 0.3103 - val_accuracy: 0.8622 - val_loss: 0.3523 - learning_rate: 3.1250e-05\n",
      "Epoch 53/200\n",
      "\u001b[1m549/549\u001b[0m \u001b[32m━━━━━━━━━━━━━━━━━━━━\u001b[0m\u001b[37m\u001b[0m \u001b[1m22s\u001b[0m 40ms/step - accuracy: 0.8750 - loss: 0.3089 - val_accuracy: 0.8604 - val_loss: 0.3528 - learning_rate: 3.1250e-05\n",
      "Epoch 54/200\n",
      "\u001b[1m549/549\u001b[0m \u001b[32m━━━━━━━━━━━━━━━━━━━━\u001b[0m\u001b[37m\u001b[0m \u001b[1m22s\u001b[0m 40ms/step - accuracy: 0.8700 - loss: 0.3108 - val_accuracy: 0.8668 - val_loss: 0.3449 - learning_rate: 3.1250e-05\n",
      "Epoch 55/200\n",
      "\u001b[1m549/549\u001b[0m \u001b[32m━━━━━━━━━━━━━━━━━━━━\u001b[0m\u001b[37m\u001b[0m \u001b[1m22s\u001b[0m 40ms/step - accuracy: 0.8775 - loss: 0.3033 - val_accuracy: 0.8622 - val_loss: 0.3532 - learning_rate: 3.1250e-05\n",
      "Epoch 56/200\n",
      "\u001b[1m549/549\u001b[0m \u001b[32m━━━━━━━━━━━━━━━━━━━━\u001b[0m\u001b[37m\u001b[0m \u001b[1m22s\u001b[0m 40ms/step - accuracy: 0.8788 - loss: 0.2986 - val_accuracy: 0.8641 - val_loss: 0.3555 - learning_rate: 3.1250e-05\n",
      "Epoch 57/200\n",
      "\u001b[1m549/549\u001b[0m \u001b[32m━━━━━━━━━━━━━━━━━━━━\u001b[0m\u001b[37m\u001b[0m \u001b[1m22s\u001b[0m 40ms/step - accuracy: 0.8749 - loss: 0.3063 - val_accuracy: 0.8622 - val_loss: 0.3495 - learning_rate: 3.1250e-05\n",
      "Epoch 58/200\n",
      "\u001b[1m549/549\u001b[0m \u001b[32m━━━━━━━━━━━━━━━━━━━━\u001b[0m\u001b[37m\u001b[0m \u001b[1m22s\u001b[0m 40ms/step - accuracy: 0.8861 - loss: 0.2944 - val_accuracy: 0.8622 - val_loss: 0.3545 - learning_rate: 1.5625e-05\n",
      "Epoch 59/200\n",
      "\u001b[1m549/549\u001b[0m \u001b[32m━━━━━━━━━━━━━━━━━━━━\u001b[0m\u001b[37m\u001b[0m \u001b[1m22s\u001b[0m 40ms/step - accuracy: 0.8799 - loss: 0.3109 - val_accuracy: 0.8622 - val_loss: 0.3528 - learning_rate: 1.5625e-05\n",
      "Epoch 60/200\n",
      "\u001b[1m549/549\u001b[0m \u001b[32m━━━━━━━━━━━━━━━━━━━━\u001b[0m\u001b[37m\u001b[0m \u001b[1m22s\u001b[0m 40ms/step - accuracy: 0.8773 - loss: 0.3022 - val_accuracy: 0.8650 - val_loss: 0.3519 - learning_rate: 1.5625e-05\n",
      "Epoch 61/200\n",
      "\u001b[1m549/549\u001b[0m \u001b[32m━━━━━━━━━━━━━━━━━━━━\u001b[0m\u001b[37m\u001b[0m \u001b[1m22s\u001b[0m 40ms/step - accuracy: 0.8771 - loss: 0.3020 - val_accuracy: 0.8631 - val_loss: 0.3568 - learning_rate: 7.8125e-06\n",
      "Epoch 62/200\n",
      "\u001b[1m549/549\u001b[0m \u001b[32m━━━━━━━━━━━━━━━━━━━━\u001b[0m\u001b[37m\u001b[0m \u001b[1m22s\u001b[0m 40ms/step - accuracy: 0.8763 - loss: 0.3081 - val_accuracy: 0.8613 - val_loss: 0.3588 - learning_rate: 7.8125e-06\n",
      "Epoch 63/200\n",
      "\u001b[1m549/549\u001b[0m \u001b[32m━━━━━━━━━━━━━━━━━━━━\u001b[0m\u001b[37m\u001b[0m \u001b[1m22s\u001b[0m 40ms/step - accuracy: 0.8709 - loss: 0.3087 - val_accuracy: 0.8641 - val_loss: 0.3584 - learning_rate: 7.8125e-06\n",
      "Epoch 64/200\n",
      "\u001b[1m549/549\u001b[0m \u001b[32m━━━━━━━━━━━━━━━━━━━━\u001b[0m\u001b[37m\u001b[0m \u001b[1m22s\u001b[0m 40ms/step - accuracy: 0.8757 - loss: 0.3011 - val_accuracy: 0.8613 - val_loss: 0.3593 - learning_rate: 3.9063e-06\n",
      "Epoch 65/200\n",
      "\u001b[1m549/549\u001b[0m \u001b[32m━━━━━━━━━━━━━━━━━━━━\u001b[0m\u001b[37m\u001b[0m \u001b[1m22s\u001b[0m 40ms/step - accuracy: 0.8769 - loss: 0.2993 - val_accuracy: 0.8659 - val_loss: 0.3572 - learning_rate: 3.9063e-06\n",
      "Epoch 66/200\n",
      "\u001b[1m549/549\u001b[0m \u001b[32m━━━━━━━━━━━━━━━━━━━━\u001b[0m\u001b[37m\u001b[0m \u001b[1m22s\u001b[0m 40ms/step - accuracy: 0.8758 - loss: 0.2971 - val_accuracy: 0.8659 - val_loss: 0.3571 - learning_rate: 3.9063e-06\n",
      "Epoch 67/200\n",
      "\u001b[1m549/549\u001b[0m \u001b[32m━━━━━━━━━━━━━━━━━━━━\u001b[0m\u001b[37m\u001b[0m \u001b[1m22s\u001b[0m 40ms/step - accuracy: 0.8812 - loss: 0.3045 - val_accuracy: 0.8659 - val_loss: 0.3584 - learning_rate: 1.9531e-06\n",
      "Epoch 68/200\n",
      "\u001b[1m549/549\u001b[0m \u001b[32m━━━━━━━━━━━━━━━━━━━━\u001b[0m\u001b[37m\u001b[0m \u001b[1m22s\u001b[0m 41ms/step - accuracy: 0.8727 - loss: 0.3092 - val_accuracy: 0.8650 - val_loss: 0.3591 - learning_rate: 1.9531e-06\n",
      "Epoch 69/200\n",
      "\u001b[1m549/549\u001b[0m \u001b[32m━━━━━━━━━━━━━━━━━━━━\u001b[0m\u001b[37m\u001b[0m \u001b[1m22s\u001b[0m 40ms/step - accuracy: 0.8834 - loss: 0.3029 - val_accuracy: 0.8659 - val_loss: 0.3586 - learning_rate: 1.9531e-06\n",
      "Epoch 70/200\n",
      "\u001b[1m549/549\u001b[0m \u001b[32m━━━━━━━━━━━━━━━━━━━━\u001b[0m\u001b[37m\u001b[0m \u001b[1m22s\u001b[0m 40ms/step - accuracy: 0.8774 - loss: 0.3005 - val_accuracy: 0.8659 - val_loss: 0.3589 - learning_rate: 9.7656e-07\n",
      "Epoch 71/200\n",
      "\u001b[1m549/549\u001b[0m \u001b[32m━━━━━━━━━━━━━━━━━━━━\u001b[0m\u001b[37m\u001b[0m \u001b[1m22s\u001b[0m 40ms/step - accuracy: 0.8763 - loss: 0.3060 - val_accuracy: 0.8659 - val_loss: 0.3579 - learning_rate: 9.7656e-07\n",
      "Epoch 72/200\n",
      "\u001b[1m549/549\u001b[0m \u001b[32m━━━━━━━━━━━━━━━━━━━━\u001b[0m\u001b[37m\u001b[0m \u001b[1m22s\u001b[0m 40ms/step - accuracy: 0.8823 - loss: 0.3006 - val_accuracy: 0.8659 - val_loss: 0.3577 - learning_rate: 9.7656e-07\n",
      "Epoch 73/200\n",
      "\u001b[1m549/549\u001b[0m \u001b[32m━━━━━━━━━━━━━━━━━━━━\u001b[0m\u001b[37m\u001b[0m \u001b[1m22s\u001b[0m 40ms/step - accuracy: 0.8758 - loss: 0.3111 - val_accuracy: 0.8659 - val_loss: 0.3572 - learning_rate: 4.8828e-07\n",
      "Epoch 74/200\n",
      "\u001b[1m549/549\u001b[0m \u001b[32m━━━━━━━━━━━━━━━━━━━━\u001b[0m\u001b[37m\u001b[0m \u001b[1m22s\u001b[0m 40ms/step - accuracy: 0.8812 - loss: 0.2938 - val_accuracy: 0.8659 - val_loss: 0.3575 - learning_rate: 4.8828e-07\n",
      "Epoch 75/200\n",
      "\u001b[1m549/549\u001b[0m \u001b[32m━━━━━━━━━━━━━━━━━━━━\u001b[0m\u001b[37m\u001b[0m \u001b[1m22s\u001b[0m 40ms/step - accuracy: 0.8782 - loss: 0.3020 - val_accuracy: 0.8659 - val_loss: 0.3573 - learning_rate: 4.8828e-07\n",
      "Epoch 76/200\n",
      "\u001b[1m549/549\u001b[0m \u001b[32m━━━━━━━━━━━━━━━━━━━━\u001b[0m\u001b[37m\u001b[0m \u001b[1m22s\u001b[0m 40ms/step - accuracy: 0.8761 - loss: 0.3047 - val_accuracy: 0.8659 - val_loss: 0.3574 - learning_rate: 2.4414e-07\n",
      "Epoch 77/200\n",
      "\u001b[1m549/549\u001b[0m \u001b[32m━━━━━━━━━━━━━━━━━━━━\u001b[0m\u001b[37m\u001b[0m \u001b[1m22s\u001b[0m 40ms/step - accuracy: 0.8831 - loss: 0.2929 - val_accuracy: 0.8659 - val_loss: 0.3574 - learning_rate: 2.4414e-07\n",
      "Epoch 78/200\n",
      "\u001b[1m549/549\u001b[0m \u001b[32m━━━━━━━━━━━━━━━━━━━━\u001b[0m\u001b[37m\u001b[0m \u001b[1m22s\u001b[0m 40ms/step - accuracy: 0.8754 - loss: 0.3072 - val_accuracy: 0.8659 - val_loss: 0.3574 - learning_rate: 2.4414e-07\n",
      "Epoch 79/200\n",
      "\u001b[1m549/549\u001b[0m \u001b[32m━━━━━━━━━━━━━━━━━━━━\u001b[0m\u001b[37m\u001b[0m \u001b[1m22s\u001b[0m 40ms/step - accuracy: 0.8791 - loss: 0.2952 - val_accuracy: 0.8659 - val_loss: 0.3574 - learning_rate: 1.2207e-07\n",
      "Epoch 80/200\n",
      "\u001b[1m549/549\u001b[0m \u001b[32m━━━━━━━━━━━━━━━━━━━━\u001b[0m\u001b[37m\u001b[0m \u001b[1m22s\u001b[0m 40ms/step - accuracy: 0.8751 - loss: 0.3002 - val_accuracy: 0.8659 - val_loss: 0.3573 - learning_rate: 1.2207e-07\n",
      "Epoch 81/200\n",
      "\u001b[1m549/549\u001b[0m \u001b[32m━━━━━━━━━━━━━━━━━━━━\u001b[0m\u001b[37m\u001b[0m \u001b[1m22s\u001b[0m 40ms/step - accuracy: 0.8806 - loss: 0.2940 - val_accuracy: 0.8668 - val_loss: 0.3572 - learning_rate: 1.2207e-07\n",
      "Epoch 82/200\n",
      "\u001b[1m549/549\u001b[0m \u001b[32m━━━━━━━━━━━━━━━━━━━━\u001b[0m\u001b[37m\u001b[0m \u001b[1m22s\u001b[0m 40ms/step - accuracy: 0.8877 - loss: 0.2854 - val_accuracy: 0.8668 - val_loss: 0.3572 - learning_rate: 6.1035e-08\n",
      "Epoch 83/200\n",
      "\u001b[1m549/549\u001b[0m \u001b[32m━━━━━━━━━━━━━━━━━━━━\u001b[0m\u001b[37m\u001b[0m \u001b[1m22s\u001b[0m 40ms/step - accuracy: 0.8788 - loss: 0.3046 - val_accuracy: 0.8668 - val_loss: 0.3571 - learning_rate: 6.1035e-08\n",
      "Epoch 84/200\n",
      "\u001b[1m549/549\u001b[0m \u001b[32m━━━━━━━━━━━━━━━━━━━━\u001b[0m\u001b[37m\u001b[0m \u001b[1m22s\u001b[0m 40ms/step - accuracy: 0.8617 - loss: 0.3182 - val_accuracy: 0.8668 - val_loss: 0.3571 - learning_rate: 6.1035e-08\n"
     ]
    }
   ],
   "source": [
    "# **4. Train Model**\n",
    "history = model.fit(\n",
    "    [X_train_voice, X_train_text], y_train,\n",
    "    validation_data=([X_val_voice, X_val_text], y_val),\n",
    "    epochs=200, batch_size=16,\n",
    "    callbacks=[\n",
    "        tf.keras.callbacks.EarlyStopping(monitor=\"val_loss\", patience=30, restore_best_weights=True),\n",
    "        tf.keras.callbacks.ReduceLROnPlateau(monitor=\"val_loss\", factor=0.5, patience=3)\n",
    "    ]\n",
    ")"
   ]
  },
  {
   "cell_type": "code",
   "execution_count": 31,
   "metadata": {},
   "outputs": [
    {
     "name": "stdout",
     "output_type": "stream",
     "text": [
      "\u001b[1m35/35\u001b[0m \u001b[32m━━━━━━━━━━━━━━━━━━━━\u001b[0m\u001b[37m\u001b[0m \u001b[1m1s\u001b[0m 17ms/step - accuracy: 0.8760 - loss: 0.3309\n",
      "Test Accuracy: 0.8769\n",
      "\u001b[1m35/35\u001b[0m \u001b[32m━━━━━━━━━━━━━━━━━━━━\u001b[0m\u001b[37m\u001b[0m \u001b[1m1s\u001b[0m 30ms/step\n"
     ]
    },
    {
     "data": {
      "image/png": "[encoded data removed]",
      "text/plain": [
       "<Figure size 640x480 with 2 Axes>"
      ]
     },
     "metadata": {},
     "output_type": "display_data"
    },
    {
     "name": "stdout",
     "output_type": "stream",
     "text": [
      "                precision    recall  f1-score   support\n",
      "\n",
      "Non-depression       0.89      0.94      0.92       785\n",
      "    Depression       0.83      0.71      0.77       312\n",
      "\n",
      "      accuracy                           0.88      1097\n",
      "     macro avg       0.86      0.83      0.84      1097\n",
      "  weighted avg       0.87      0.88      0.87      1097\n",
      "\n"
     ]
    }
   ],
   "source": [
    "# **5. Evaluate Model**\n",
    "loss, accuracy = model.evaluate([X_test_voice, X_test_text], y_test)\n",
    "print(f\"Test Accuracy: {accuracy:.4f}\")\n",
    "\n",
    "# Confusion Matrix\n",
    "y_pred = (model.predict([X_test_voice, X_test_text]) > 0.5).astype(int)\n",
    "cm = confusion_matrix(y_test, y_pred)\n",
    "sns.heatmap(cm, annot=True, fmt=\"d\", cmap=\"Blues\", xticklabels=[\"Non-depression\", \"Depression\"], yticklabels=[\"Non-depression\", \"Depression\"])\n",
    "plt.xlabel(\"Predicted\")\n",
    "plt.ylabel(\"Actual\")\n",
    "plt.title(\"Confusion Matrix\")\n",
    "plt.show()\n",
    "\n",
    "# Classification Report\n",
    "print(classification_report(y_test, y_pred, target_names=[\"Non-depression\", \"Depression\"]))\n"
   ]
  }
 ],
 "metadata": {
  "kernelspec": {
   "display_name": "Python 3",
   "language": "python",
   "name": "python3"
  },
  "language_info": {
   "codemirror_mode": {
    "name": "ipython",
    "version": 3
   },
   "file_extension": ".py",
   "mimetype": "text/x-python",
   "name": "python",
   "nbconvert_exporter": "python",
   "pygments_lexer": "ipython3",
   "version": "3.11.9"
  }
 },
 "nbformat": 4,
 "nbformat_minor": 2
}
